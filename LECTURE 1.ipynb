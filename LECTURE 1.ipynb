{
 "cells": [
  {
   "cell_type": "code",
   "execution_count": 1,
   "id": "734c25da",
   "metadata": {},
   "outputs": [
    {
     "name": "stdout",
     "output_type": "stream",
     "text": [
      "Momina Arshad\n"
     ]
    }
   ],
   "source": [
    "print ('Momina Arshad')"
   ]
  },
  {
   "cell_type": "code",
   "execution_count": 7,
   "id": "5ca18769",
   "metadata": {},
   "outputs": [
    {
     "name": "stdout",
     "output_type": "stream",
     "text": [
      "<class 'int'>\n",
      "<class 'float'>\n",
      "<class 'str'>\n",
      "Name: Momina\n",
      "Age: 22\n",
      "Height: 5.5\n"
     ]
    }
   ],
   "source": [
    "#Types of Data\n",
    "#integer variable\n",
    "age=22\n",
    "#string variable\n",
    "height=5.5\n",
    "#float Variable\n",
    "name=\"Momina\"\n",
    "print (type(x))\n",
    "print (type(y))\n",
    "print(type(z))\n",
    "print(\"Name:\", name)\n",
    "print(\"Age:\", age)\n",
    "print(\"Height:\", height)"
   ]
  },
  {
   "cell_type": "code",
   "execution_count": 10,
   "id": "0a79f08f",
   "metadata": {},
   "outputs": [
    {
     "name": "stdout",
     "output_type": "stream",
     "text": [
      "enter your name:momin\n",
      "Hello momin\n"
     ]
    }
   ],
   "source": [
    "#Get user input\n",
    "name= input(\"enter your name:\")\n",
    "print('Hello', name)"
   ]
  },
  {
   "cell_type": "code",
   "execution_count": 12,
   "id": "cc68dcaf",
   "metadata": {},
   "outputs": [
    {
     "name": "stdout",
     "output_type": "stream",
     "text": [
      "momina is a student\n"
     ]
    }
   ],
   "source": [
    "#Get user input\n",
    "name= input(\"enter your name:\")\n",
    "print(name,\"is a student\")"
   ]
  },
  {
   "cell_type": "code",
   "execution_count": 17,
   "id": "fe92406e",
   "metadata": {},
   "outputs": [
    {
     "name": "stdout",
     "output_type": "stream",
     "text": [
      "the answer is: 6\n"
     ]
    }
   ],
   "source": [
    "num1=2\n",
    "num2=4\n",
    "sum= num1+num2\n",
    "print(\"The answer is:\",sum)\n"
   ]
  },
  {
   "cell_type": "code",
   "execution_count": 18,
   "id": "ab03be0c",
   "metadata": {},
   "outputs": [
    {
     "data": {
      "text/plain": [
       "-1"
      ]
     },
     "execution_count": 18,
     "metadata": {},
     "output_type": "execute_result"
    }
   ],
   "source": [
    "num1=3\n",
    "num2=4\n",
    "result=num1-num2\n",
    "result"
   ]
  },
  {
   "cell_type": "code",
   "execution_count": 19,
   "id": "2038a369",
   "metadata": {},
   "outputs": [
    {
     "name": "stdout",
     "output_type": "stream",
     "text": [
      "The answer is: 16\n"
     ]
    }
   ],
   "source": [
    "e=2\n",
    "t=4\n",
    "result=e**t\n",
    "print(\"The answer is:\",result)"
   ]
  },
  {
   "cell_type": "code",
   "execution_count": 12,
   "id": "98ededb6",
   "metadata": {},
   "outputs": [
    {
     "name": "stdout",
     "output_type": "stream",
     "text": [
      "['Hizba', 'Azka', 'Momina', 'Ahmad']\n",
      "<class 'list'>\n"
     ]
    }
   ],
   "source": [
    "#List\n",
    "L=[\"Hizba\",\"Azka\",\"Momina\",\"Ahmad\"]\n",
    "print (L)\n",
    "print(type(L))"
   ]
  },
  {
   "cell_type": "code",
   "execution_count": 13,
   "id": "d6efc3ff",
   "metadata": {},
   "outputs": [
    {
     "name": "stdout",
     "output_type": "stream",
     "text": [
      "4\n"
     ]
    }
   ],
   "source": [
    "#LENGTH\n",
    "print(len(L))"
   ]
  },
  {
   "cell_type": "code",
   "execution_count": 18,
   "id": "78925ef6",
   "metadata": {},
   "outputs": [
    {
     "name": "stdout",
     "output_type": "stream",
     "text": [
      "['Hizba', 'Azka', 'Momina', 'Ahmad', 2, 2, 2, 2]\n"
     ]
    }
   ],
   "source": [
    "#FOR ADDING AN ELEMENT IN THE LIST\n",
    "L.append(2)\n",
    "print(L)"
   ]
  },
  {
   "cell_type": "code",
   "execution_count": 26,
   "id": "323dc80d",
   "metadata": {},
   "outputs": [
    {
     "name": "stdout",
     "output_type": "stream",
     "text": [
      "Dictionary {1: 'Apple', 2: 'Banana'}\n"
     ]
    }
   ],
   "source": [
    "#dictionary\n",
    "Dict1={1:\"Apple\",2:\"Banana\"}\n",
    "print(\"Dictionary\", Dict1)"
   ]
  },
  {
   "cell_type": "code",
   "execution_count": 35,
   "id": "64aa0152",
   "metadata": {},
   "outputs": [
    {
     "name": "stdout",
     "output_type": "stream",
     "text": [
      "('apple', 'banana')\n",
      "<class 'tuple'>\n"
     ]
    }
   ],
   "source": [
    "#Tuple\n",
    "T=(\"apple\",\"banana\")\n",
    "print(T)\n",
    "print(type(T))"
   ]
  },
  {
   "cell_type": "code",
   "execution_count": 2,
   "id": "4c5b2270",
   "metadata": {},
   "outputs": [
    {
     "name": "stdout",
     "output_type": "stream",
     "text": [
      "[1 2 3]\n",
      "arrayshape: (3,)\n",
      "size: 3\n",
      "dimension: 1\n",
      "[[3 4 5]\n",
      " [6 7 8]]\n",
      "arrayshape: (2, 3)\n",
      "arraysize: 6\n",
      "dimension: 2\n"
     ]
    }
   ],
   "source": [
    "import numpy as np\n",
    "arr=np.array([1,2,3])\n",
    "arr1=np.array([[3,4,5],[6,7,8]])\n",
    "print(arr)\n",
    "print(\"arrayshape:\",arr.shape)\n",
    "print(\"size:\", arr.size)\n",
    "print(\"dimension:\", arr.ndim)\n",
    "print(arr1)\n",
    "print (\"arrayshape:\",arr1.shape)\n",
    "print(\"arraysize:\",arr1.size)\n",
    "print(\"dimension:\",arr1.ndim)"
   ]
  },
  {
   "cell_type": "code",
   "execution_count": 3,
   "id": "9ee655bc",
   "metadata": {},
   "outputs": [
    {
     "name": "stdout",
     "output_type": "stream",
     "text": [
      "[1 2 3 4 5 6 7 8 9]\n",
      "[[1 2 3]\n",
      " [4 5 6]\n",
      " [7 8 9]]\n"
     ]
    }
   ],
   "source": [
    "#Reshaping an array\n",
    "a1=np.array([1,2,3,4,5,6,7,8,9])\n",
    "print(a1)\n",
    "a2=a1.reshape(3,3)\n",
    "print(a2)"
   ]
  },
  {
   "cell_type": "code",
   "execution_count": 4,
   "id": "900ae034",
   "metadata": {},
   "outputs": [
    {
     "name": "stdout",
     "output_type": "stream",
     "text": [
      "[[5 6 3]\n",
      " [4 1 9]]\n",
      "[5 6 3 4 1 9]\n"
     ]
    }
   ],
   "source": [
    "#Reshaping An array\n",
    "x=np.array([[5,6,3],[4,1,9]])\n",
    "print(x)\n",
    "x1=x.reshape(6,)\n",
    "print(x1)"
   ]
  },
  {
   "cell_type": "code",
   "execution_count": 12,
   "id": "a6660542",
   "metadata": {},
   "outputs": [
    {
     "name": "stdout",
     "output_type": "stream",
     "text": [
      "our array is: [[2 4 5]\n",
      " [6 7 8]]\n",
      "the size of array of axis 0: 2 \n",
      "size of array in axis 1: 3\n",
      "our transposed array is: [[2 6]\n",
      " [4 7]\n",
      " [5 8]]\n",
      "the shape is: (2, 3)\n",
      "the size of array in axis 0: 3 \n",
      "the size of array in axis 1: 2\n"
     ]
    }
   ],
   "source": [
    "b=np.array([[2,4,5],[6,7,8]])\n",
    "print('our array is:',b)\n",
    "print('the size of array of axis 0:',b.shape[0], '\\nsize of array in axis 1:',b.shape[1])\n",
    "print('our transposed array is:', b.T)\n",
    "print('the shape is:',b.shape)\n",
    "print('the size of array in axis 0:',b.T.shape[0], '\\nthe size of array in axis 1:',b.T.shape[1])"
   ]
  },
  {
   "cell_type": "code",
   "execution_count": null,
   "id": "a92f01af",
   "metadata": {},
   "outputs": [],
   "source": []
  },
  {
   "cell_type": "markdown",
   "id": "1f161ea6",
   "metadata": {},
   "source": []
  }
 ],
 "metadata": {
  "kernelspec": {
   "display_name": "Python 3 (ipykernel)",
   "language": "python",
   "name": "python3"
  },
  "language_info": {
   "codemirror_mode": {
    "name": "ipython",
    "version": 3
   },
   "file_extension": ".py",
   "mimetype": "text/x-python",
   "name": "python",
   "nbconvert_exporter": "python",
   "pygments_lexer": "ipython3",
   "version": "3.11.5"
  }
 },
 "nbformat": 4,
 "nbformat_minor": 5
}

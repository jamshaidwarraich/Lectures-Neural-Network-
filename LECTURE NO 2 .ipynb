{
 "cells": [
  {
   "cell_type": "code",
   "execution_count": 1,
   "id": "3f64dae7",
   "metadata": {},
   "outputs": [],
   "source": [
    "class Dog:       #we are going to define a class\n",
    "    def bark(self):           #dog is a class and a property of dog is bark\n",
    "        print('woof')          #response that we need is \"woof\"\n",
    "    pass                      #end of property\n",
    "pass                     #end of property"
   ]
  },
  {
   "cell_type": "code",
   "execution_count": 2,
   "id": "75914923",
   "metadata": {},
   "outputs": [
    {
     "name": "stdout",
     "output_type": "stream",
     "text": [
      "woof\n"
     ]
    }
   ],
   "source": [
    "german_shephard=Dog()\n",
    "german_shephard.bark() #this is used to print the required result"
   ]
  },
  {
   "cell_type": "code",
   "execution_count": 3,
   "id": "da0a4fa1",
   "metadata": {},
   "outputs": [
    {
     "name": "stdout",
     "output_type": "stream",
     "text": [
      "woof\n"
     ]
    }
   ],
   "source": [
    "a_shephard= Dog()\n",
    "a_shephard.bark()"
   ]
  },
  {
   "cell_type": "code",
   "execution_count": 72,
   "id": "571293ba",
   "metadata": {},
   "outputs": [],
   "source": [
    "class Dog:\n",
    "    def __init__(self,petname,temp):\n",
    "        self.name=petname\n",
    "        self.temperature=temp\n",
    "        pass\n",
    "    def status(self):\n",
    "        print('petname is',self.name)\n",
    "        print('pet temperature is', self.temperature)\n",
    "        pass\n",
    "    def settemperature(self,temp):\n",
    "        self.temperature=temp\n",
    "        pass\n",
    "              "
   ]
  },
  {
   "cell_type": "code",
   "execution_count": 73,
   "id": "35b2d50a",
   "metadata": {},
   "outputs": [],
   "source": [
    "german_shephard= Dog('German shephard', 35)\n",
    "lessi= Dog('lessi', 39)\n",
    "a_shephard= Dog('a', 40)"
   ]
  },
  {
   "cell_type": "code",
   "execution_count": 74,
   "id": "b6b39fa8",
   "metadata": {},
   "outputs": [
    {
     "name": "stdout",
     "output_type": "stream",
     "text": [
      "petname is German shephard\n",
      "pet temperature is 35\n",
      "petname is lessi\n",
      "pet temperature is 39\n",
      "petname is a\n",
      "pet temperature is 40\n"
     ]
    }
   ],
   "source": [
    "german_shephard.status()\n",
    "lessi.status()\n",
    "a_shephard.status()"
   ]
  },
  {
   "cell_type": "code",
   "execution_count": 76,
   "id": "cce9f880",
   "metadata": {},
   "outputs": [
    {
     "name": "stdout",
     "output_type": "stream",
     "text": [
      "petname is German shephard\n",
      "pet temperature is 20\n"
     ]
    }
   ],
   "source": [
    "german_shephard.settemperature(20)\n",
    "german_shephard.status()"
   ]
  },
  {
   "cell_type": "code",
   "execution_count": null,
   "id": "11e0c369",
   "metadata": {},
   "outputs": [],
   "source": [
    "class Dog:\n",
    "    def bark(status)"
   ]
  },
  {
   "cell_type": "code",
   "execution_count": 1,
   "id": "a6b0b99e",
   "metadata": {},
   "outputs": [],
   "source": [
    "class Bag:\n",
    "    def  color(self):\n",
    "        print('blue')\n",
    "        pass\n",
    "    pass\n",
    "    "
   ]
  },
  {
   "cell_type": "code",
   "execution_count": 2,
   "id": "9ac95608",
   "metadata": {},
   "outputs": [
    {
     "name": "stdout",
     "output_type": "stream",
     "text": [
      "blue\n"
     ]
    }
   ],
   "source": [
    "nike= Bag()\n",
    "nike.color()"
   ]
  },
  {
   "cell_type": "code",
   "execution_count": 2,
   "id": "96b413ea",
   "metadata": {},
   "outputs": [],
   "source": [
    "class Bag:\n",
    "    def __init__ (self,color,price,weight):\n",
    "        self.color= color\n",
    "        self.price= price\n",
    "        self.weight= weight\n",
    "        pass\n",
    "    def status(self):\n",
    "        print('The bag is of', self.color)\n",
    "        print('the bag costs', self.price)\n",
    "        print('the bag has weight', self.weight)\n",
    "        pass\n",
    "    def setcolor(self,color):\n",
    "        self.color= color\n",
    "        pass"
   ]
  },
  {
   "cell_type": "code",
   "execution_count": 3,
   "id": "edf47632",
   "metadata": {},
   "outputs": [
    {
     "name": "stdout",
     "output_type": "stream",
     "text": [
      "The bag is of blue color\n",
      "the bag costs 2000\n",
      "the bag has weight 40\n"
     ]
    }
   ],
   "source": [
    "Bag= Bag('blue color', 2000, 40)\n",
    "Bag.status()"
   ]
  },
  {
   "cell_type": "code",
   "execution_count": 4,
   "id": "5f6fd8ed",
   "metadata": {},
   "outputs": [
    {
     "name": "stdout",
     "output_type": "stream",
     "text": [
      "The bag is of red\n",
      "the bag costs 2000\n",
      "the bag has weight 40\n"
     ]
    }
   ],
   "source": [
    "Bag.setcolor('red')\n",
    "Bag.status()"
   ]
  },
  {
   "cell_type": "code",
   "execution_count": 5,
   "id": "8585cf8d",
   "metadata": {},
   "outputs": [],
   "source": [
    "class Students:\n",
    "    def name(self):\n",
    "        print('Ahmad')\n",
    "        pass\n",
    "    pass"
   ]
  },
  {
   "cell_type": "code",
   "execution_count": 6,
   "id": "19960423",
   "metadata": {},
   "outputs": [],
   "source": [
    "class Students:\n",
    "    def __init__ (self,name,age,height):\n",
    "        self.name=name\n",
    "        self.age=age\n",
    "        self.height=height\n",
    "        pass\n",
    "    def status(self):\n",
    "        print('The name of the student is:', self.name)\n",
    "        print('His age is:', self.age)\n",
    "        print('His height is:', self.height)\n",
    "        pass\n",
    "    def setname (self, name):\n",
    "        self.name= name\n",
    "        pass\n",
    "    def setheight (self,height):\n",
    "        self.height= height\n",
    "        passStudent.setname('Ali')\n",
    "Student.status()"
   ]
  },
  {
   "cell_type": "code",
   "execution_count": 7,
   "id": "a4aafd9e",
   "metadata": {},
   "outputs": [
    {
     "name": "stdout",
     "output_type": "stream",
     "text": [
      "The name of the student is: Ahmad\n",
      "His age is: 19\n",
      "His height is: 5\n"
     ]
    }
   ],
   "source": [
    "Student= Students('Ahmad', 19, 5)\n",
    "Student.status()"
   ]
  },
  {
   "cell_type": "code",
   "execution_count": 8,
   "id": "7d884e76",
   "metadata": {},
   "outputs": [
    {
     "name": "stdout",
     "output_type": "stream",
     "text": [
      "The name of the student is: Ali\n",
      "His age is: 19\n",
      "His height is: 5\n"
     ]
    }
   ],
   "source": [
    "Student.setname('Ali')\n",
    "Student.status()"
   ]
  },
  {
   "cell_type": "code",
   "execution_count": 9,
   "id": "92cd6cb9",
   "metadata": {},
   "outputs": [
    {
     "name": "stdout",
     "output_type": "stream",
     "text": [
      "The name of the student is: Ali\n",
      "His age is: 19\n",
      "His height is: 6\n"
     ]
    }
   ],
   "source": [
    "Student.setheight(6)\n",
    "Student.status()"
   ]
  },
  {
   "cell_type": "code",
   "execution_count": 10,
   "id": "1e4c3640",
   "metadata": {},
   "outputs": [],
   "source": [
    "class vehicle:\n",
    "    def __init__ (self,name,max_speed,mileage):\n",
    "        self.name=name\n",
    "        self. max_speed= max_speed\n",
    "        self. mileage= mileage\n",
    "    pass\n",
    "    def status(self):\n",
    "        print('The name of vehicle is',self.name)\n",
    "        print('The max_speed it can attain is', self.max_speed)\n",
    "        print('The mileage is', self.mileage)\n",
    "    pass\n",
    "def setmileage (self, mileage):\n",
    "    self. mileage= mileage\n",
    "    pass"
   ]
  },
  {
   "cell_type": "code",
   "execution_count": 11,
   "id": "63d4475b",
   "metadata": {},
   "outputs": [
    {
     "name": "stdout",
     "output_type": "stream",
     "text": [
      "The name of vehicle is School volve.\n",
      "The max_speed it can attain is 180.0\n",
      "The mileage is 12.0\n"
     ]
    }
   ],
   "source": [
    "vehicle = vehicle('School volve.', 180. , 12. )\n",
    "vehicle.status()"
   ]
  },
  {
   "cell_type": "code",
   "execution_count": 12,
   "id": "ec8f603b",
   "metadata": {},
   "outputs": [],
   "source": [
    "class cat:\n",
    "    def __init__(self,name,color,kingdom):\n",
    "        self.name= name\n",
    "        self.color= color\n",
    "        self.kingdom= kingdom\n",
    "        pass\n",
    "    def status (self):\n",
    "            print('The name of the cat is:',self.name)\n",
    "            print('its color is:', self.color)\n",
    "            print('it belongs to:', self.kingdom)\n",
    "            pass"
   ]
  },
  {
   "cell_type": "code",
   "execution_count": 13,
   "id": "00d66f88",
   "metadata": {},
   "outputs": [
    {
     "name": "stdout",
     "output_type": "stream",
     "text": [
      "The name of the cat is: Flex\n",
      "its color is: Brown\n",
      "it belongs to: Kingdom Animalia\n"
     ]
    }
   ],
   "source": [
    "cat = cat('Flex', 'Brown', 'Kingdom Animalia')\n",
    "cat.status()"
   ]
  },
  {
   "cell_type": "code",
   "execution_count": 14,
   "id": "6b3ccceb",
   "metadata": {},
   "outputs": [],
   "source": [
    "class student:\n",
    "    def __init__ (self,name,registration_no,subjects,CGPA,grade):\n",
    "        self.name= name\n",
    "        self.registration_no= registration_no\n",
    "        self.subjects= subjects\n",
    "        self.CGPA= CGPA\n",
    "        self.grade= grade\n",
    "    pass\n",
    "    def status(self):\n",
    "        print('My name is:', self.name)\n",
    "        print('My registration no is:', self.registration_no)\n",
    "        print('I have chosen the subjects:', self.subjects)\n",
    "        print('My CGPA is:', self.CGPA)\n",
    "        print('I got the grade:', self.grade)\n",
    "    pass\n",
    "    def setname (self,name):\n",
    "        self.name= name\n",
    "    pass\n",
    "    def setregistration_no (self,registration_no):\n",
    "        self.registration_no= registration_no\n",
    "    pass\n",
    "    def setsubjects (self,subjects):\n",
    "        self.subjects= subjects\n",
    "    pass"
   ]
  },
  {
   "cell_type": "code",
   "execution_count": 15,
   "id": "475fdd79",
   "metadata": {},
   "outputs": [
    {
     "name": "stdout",
     "output_type": "stream",
     "text": [
      "My name is: Momina Arshad\n",
      "My registration no is: 10\n",
      "I have chosen the subjects: ['Functional Analysis', 'Advanced Differential Equations', 'Partial Differential Equations', 'Advanced linear Algebra']\n",
      "My CGPA is: 3.57\n",
      "I got the grade: B+\n"
     ]
    }
   ],
   "source": [
    "student= student('Momina Arshad', 10, ['Functional Analysis', 'Advanced Differential Equations','Partial Differential Equations', 'Advanced linear Algebra'], 3.57, 'B+')\n",
    "student.status()"
   ]
  },
  {
   "cell_type": "code",
   "execution_count": 16,
   "id": "8a20b43c",
   "metadata": {},
   "outputs": [
    {
     "name": "stdout",
     "output_type": "stream",
     "text": [
      "My name is: Amna\n",
      "My registration no is: 10\n",
      "I have chosen the subjects: ['Functional Analysis', 'Advanced Differential Equations', 'Partial Differential Equations', 'Advanced linear Algebra']\n",
      "My CGPA is: 3.57\n",
      "I got the grade: B+\n"
     ]
    }
   ],
   "source": [
    "student.setname('Amna')\n",
    "student.status()"
   ]
  },
  {
   "cell_type": "code",
   "execution_count": 17,
   "id": "acfc9cc3",
   "metadata": {},
   "outputs": [
    {
     "name": "stdout",
     "output_type": "stream",
     "text": [
      "My name is: Amna\n",
      "My registration no is: 20\n",
      "I have chosen the subjects: ['Functional Analysis', 'Advanced Differential Equations', 'Partial Differential Equations', 'Advanced linear Algebra']\n",
      "My CGPA is: 3.57\n",
      "I got the grade: B+\n"
     ]
    }
   ],
   "source": [
    "student.setregistration_no(20)\n",
    "student.status()"
   ]
  },
  {
   "cell_type": "code",
   "execution_count": 18,
   "id": "bfcc500b",
   "metadata": {},
   "outputs": [],
   "source": [
    "class Bag:\n",
    "    def color(self):\n",
    "        print('blue')\n",
    "        pass\n",
    "    def Rs(self):\n",
    "        print('2000')\n",
    "        pass\n",
    "    def weight(self):\n",
    "        print('40')\n",
    "        pass"
   ]
  },
  {
   "cell_type": "code",
   "execution_count": 19,
   "id": "fefea3a5",
   "metadata": {},
   "outputs": [],
   "source": [
    "class Bag:\n",
    "    def __init__(self,color,Rs,weight):\n",
    "        self.color= color\n",
    "        self.Rs=Rs\n",
    "        self.weight=weight\n",
    "        pass\n",
    "    def status(self):\n",
    "        print('the color of bag is:', self.color)\n",
    "        print('the Cost of bag is:', self.Rs)\n",
    "        print('the weight of bag is:', self.weight)\n",
    "    pass\n",
    "    def setcolor (self,color):\n",
    "        self.color= color\n",
    "pass"
   ]
  },
  {
   "cell_type": "code",
   "execution_count": 20,
   "id": "448c77c4",
   "metadata": {},
   "outputs": [
    {
     "name": "stdout",
     "output_type": "stream",
     "text": [
      "the color of bag is: blue\n",
      "the Cost of bag is: 1200\n",
      "the weight of bag is: 40\n"
     ]
    }
   ],
   "source": [
    "Bag= Bag('blue', 1200, 40)\n",
    "Bag.status()"
   ]
  },
  {
   "cell_type": "code",
   "execution_count": 21,
   "id": "ae117541",
   "metadata": {},
   "outputs": [
    {
     "name": "stdout",
     "output_type": "stream",
     "text": [
      "the color of bag is: red\n",
      "the Cost of bag is: 1200\n",
      "the weight of bag is: 40\n"
     ]
    }
   ],
   "source": [
    "Bag.setcolor('red')\n",
    "Bag.status()"
   ]
  },
  {
   "cell_type": "code",
   "execution_count": null,
   "id": "02dfc5db",
   "metadata": {},
   "outputs": [],
   "source": []
  }
 ],
 "metadata": {
  "kernelspec": {
   "display_name": "Python 3 (ipykernel)",
   "language": "python",
   "name": "python3"
  },
  "language_info": {
   "codemirror_mode": {
    "name": "ipython",
    "version": 3
   },
   "file_extension": ".py",
   "mimetype": "text/x-python",
   "name": "python",
   "nbconvert_exporter": "python",
   "pygments_lexer": "ipython3",
   "version": "3.11.5"
  }
 },
 "nbformat": 4,
 "nbformat_minor": 5
}

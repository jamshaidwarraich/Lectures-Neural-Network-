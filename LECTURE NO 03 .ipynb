{
 "cells": [
  {
   "cell_type": "code",
   "execution_count": 1,
   "id": "0f4e9a98",
   "metadata": {},
   "outputs": [],
   "source": [
    "import numpy as np\n",
    "import scipy.special\n",
    "class Neuralnetwork:\n",
    "    def __init__(self, inodes, hnodes, onodes, learningrate):\n",
    "        self.inputnodes= inodes\n",
    "        self.hiddennodes= hnodes\n",
    "        self.outputnodes= onodes\n",
    "        self.lr= learningrate\n",
    "                  #np.random.normal(mean,SD,size)\n",
    "        self.wih=np.random.normal(0.0,pow(self.hiddennodes, -0.5),(self.hiddennodes,self.inputnodes))\n",
    "        self.who=np.random.normal(0.0,pow(self.outputnodes, -0.5),(self.outputnodes, self.hiddennodes))\n",
    "    \n",
    "        self.activation=lambda x:scipy.special.expit(x)\n",
    "   \n",
    "    def query(self,model_input):\n",
    "        inputs=np.array(model_input, ndmin=2).T\n",
    "    #w*x\n",
    "        hidden_input=np.dot(self.wih, inputs)\n",
    "    #activation function(w*x)\n",
    "        hidden_output=self.activation(hidden_input)\n",
    "    #repeat it for the next layer\n",
    "        final_input=np.dot(self.who,hidden_output)\n",
    "        final_output= self.activation(final_input)\n",
    "        return final_output\n"
   ]
  },
  {
   "cell_type": "code",
   "execution_count": 2,
   "id": "b2ac79be",
   "metadata": {},
   "outputs": [
    {
     "data": {
      "text/plain": [
       "array([[0.54883839],\n",
       "       [0.46550645],\n",
       "       [0.44709676]])"
      ]
     },
     "execution_count": 2,
     "metadata": {},
     "output_type": "execute_result"
    }
   ],
   "source": [
    "input_nodes=3\n",
    "hidden_nodes=3\n",
    "output_nodes=3\n",
    "learningrate=0.3\n",
    "n=Neuralnetwork(input_nodes,hidden_nodes,output_nodes,learningrate)\n",
    "\n",
    "#def query(self,model_input)\n",
    "n.query([1, 0.5, -0.5])\n",
    "\n"
   ]
  },
  {
   "cell_type": "code",
   "execution_count": 3,
   "id": "1660f5f1",
   "metadata": {},
   "outputs": [],
   "source": [
    "import numpy as np\n",
    "import scipy.special\n",
    "class Neuralnetwork:\n",
    "    def __init__(self, inodes, hnodes, onodes, learningrate):\n",
    "        self.inputnodes= inodes\n",
    "        self.hiddennodes= hnodes\n",
    "        self.outputnodes= onodes\n",
    "        self.lr= learningrate\n",
    "                  #np.random.normal(mean,SD,size)\n",
    "        self.wih=np.random.normal(0.0,pow(self.hiddennodes, -0.5),(self.hiddennodes,self.inputnodes))\n",
    "        self.who=np.random.normal(0.0,pow(self.outputnodes, -0.5),(self.outputnodes, self.hiddennodes))\n",
    "    \n",
    "        self.activation=lambda x:scipy.special.expit(x)\n",
    "    def train(self,model_input, labeled_output):\n",
    "        inputs=np.array(model_input, ndmin=2).T\n",
    "        lebelouts=np.array(labeled_output, ndmin=2).T\n",
    "        \n",
    "        hidden_input=np.dot(self.wih, hidden_input)\n",
    "        hidden_output=self.activation(hidden_input)\n",
    "        \n",
    "        final_input=np.dot(self.who, hidden_output)\n",
    "        final_output=self.activation(final_output)\n",
    "        #error\n",
    "        output_error=labeledouts-final_output\n",
    "        hidden_error=np.dot(self.who,output_error)\n",
    "        "
   ]
  },
  {
   "cell_type": "code",
   "execution_count": 4,
   "id": "2d00f949",
   "metadata": {},
   "outputs": [],
   "source": [
    "import numpy as np\n",
    "import scipy.special\n",
    "class Neuralnetwork:\n",
    "    def __init__(self,inodes,h1nodes,h2nodes,outnodes,learningrate):\n",
    "        self.inputnodes=inodes\n",
    "        self.hidden1nodes=h1nodes\n",
    "        self.hidden2nodes=h2nodes\n",
    "        self.outputnodes=onodes\n",
    "        self.lr=learningrate\n",
    "        #np.random.normal(mean,SD,size)\n",
    "        self.wih1=np.random.normal(0.0,pow(hidden1nodes,-0.5),(hidden1nodes,inputnodes))\n",
    "        self.wh1h2=np.random.normal(0.0,pow(hidden2nodes, -0.5),(hidden2nodes,hidden1nodes))\n",
    "        self.h2o=np.random.normal(0.0,pow(outputnodes, -0.5),(outputnodes,hidden2nodes))\n",
    "        #activation function\n",
    "        self.activation=lambda x:scipy.special.expit(x)\n",
    "    def train(self,model_input,labeled_output):\n",
    "        inputs=np.array(model_input, ndmin=2).T\n",
    "        lebelouts= np.array(labeled_output, ndmin=2).T\n",
    "        "
   ]
  },
  {
   "cell_type": "code",
   "execution_count": 5,
   "id": "77c6c977",
   "metadata": {},
   "outputs": [
    {
     "data": {
      "text/plain": [
       "array([[0.04582236, 0.10975084],\n",
       "       [0.1744435 , 0.10122392],\n",
       "       [0.97318327, 0.44076218]])"
      ]
     },
     "execution_count": 5,
     "metadata": {},
     "output_type": "execute_result"
    }
   ],
   "source": [
    "import numpy as np\n",
    "np.random.rand(3,2)"
   ]
  },
  {
   "cell_type": "code",
   "execution_count": 6,
   "id": "7a4e034b",
   "metadata": {},
   "outputs": [
    {
     "name": "stdout",
     "output_type": "stream",
     "text": [
      "46\n",
      "[ 5  7 11]\n"
     ]
    }
   ],
   "source": [
    "a=np.array([2,3,4])\n",
    "b=np.array([3,4,7])\n",
    "result1=a+b\n",
    "result3=np.dot(a,b)\n",
    "print(result3)\n",
    "print(result1)"
   ]
  },
  {
   "cell_type": "code",
   "execution_count": 7,
   "id": "ec26f55b",
   "metadata": {},
   "outputs": [
    {
     "name": "stdout",
     "output_type": "stream",
     "text": [
      "[2 4 6]\n"
     ]
    }
   ],
   "source": [
    "c=np.array([1,2,3])\n",
    "d=2\n",
    "result2=c*d\n",
    "print(result2)"
   ]
  },
  {
   "cell_type": "code",
   "execution_count": 8,
   "id": "1b5fe1f5",
   "metadata": {},
   "outputs": [
    {
     "name": "stdout",
     "output_type": "stream",
     "text": [
      "[[2 3 4]\n",
      " [5 6 7]\n",
      " [1 3 5]]\n",
      "[[3 4 5]\n",
      " [2 6 7]\n",
      " [4 5 6]]\n",
      "[[ 5  7  9]\n",
      " [ 7 12 14]\n",
      " [ 5  8 11]]\n"
     ]
    }
   ],
   "source": [
    "A=np.array([[2,3,4],[5,6,7],[1,3,5]])\n",
    "B=np.array([[3,4,5],[2,6,7],[4,5,6]])\n",
    "print(A)\n",
    "print(B)\n",
    "result=A+B\n",
    "print(result)"
   ]
  },
  {
   "cell_type": "code",
   "execution_count": 10,
   "id": "0d5b2176",
   "metadata": {},
   "outputs": [
    {
     "name": "stdout",
     "output_type": "stream",
     "text": [
      "[[1 7 8]\n",
      " [4 5 6]]\n",
      "[[4 7 9]\n",
      " [1 6 9]\n",
      " [3 7 8]]\n",
      "[ 35. 105. 136.]\n",
      "[ 39. 100. 129.]\n"
     ]
    }
   ],
   "source": [
    "import numpy as np\n",
    "\n",
    "C = np.array([[1, 7, 8], [4, 5, 6]])\n",
    "D = np.array([[4, 7, 9], [1, 6, 9], [3, 7, 8]])\n",
    "\n",
    "# Initialize result with correct dimensions\n",
    "result = np.zeros((len(C), len(D[0])))\n",
    "\n",
    "# Perform matrix multiplication\n",
    "for i in range(len(C)):\n",
    "    for j in range(len(D[0])):\n",
    "        for k in range(len(D)):\n",
    "            result[i][j] += C[i][k] * D[k][j]\n",
    "\n",
    "print(C)\n",
    "print(D)\n",
    "for r in result:\n",
    "    print(r)\n"
   ]
  },
  {
   "cell_type": "code",
   "execution_count": 11,
   "id": "687df367",
   "metadata": {},
   "outputs": [
    {
     "name": "stdout",
     "output_type": "stream",
     "text": [
      "15.000000000000007\n"
     ]
    }
   ],
   "source": [
    "C=np.array([[1,7,8],[4,5,6],[7,8,9]])\n",
    "det_C=np.linalg.det(C)\n",
    "print(det_C)"
   ]
  },
  {
   "cell_type": "code",
   "execution_count": 12,
   "id": "1effaf5a",
   "metadata": {},
   "outputs": [
    {
     "name": "stdout",
     "output_type": "stream",
     "text": [
      "[[-0.2         0.06666667  0.13333333]\n",
      " [ 0.4        -3.13333333  1.73333333]\n",
      " [-0.2         2.73333333 -1.53333333]]\n"
     ]
    }
   ],
   "source": [
    "C=np.array([[1,7,8],[4,5,6],[7,8,9]])\n",
    "print(np.linalg.inv(C))"
   ]
  },
  {
   "cell_type": "code",
   "execution_count": null,
   "id": "5ad805f7",
   "metadata": {},
   "outputs": [],
   "source": []
  }
 ],
 "metadata": {
  "kernelspec": {
   "display_name": "Python 3 (ipykernel)",
   "language": "python",
   "name": "python3"
  },
  "language_info": {
   "codemirror_mode": {
    "name": "ipython",
    "version": 3
   },
   "file_extension": ".py",
   "mimetype": "text/x-python",
   "name": "python",
   "nbconvert_exporter": "python",
   "pygments_lexer": "ipython3",
   "version": "3.11.5"
  }
 },
 "nbformat": 4,
 "nbformat_minor": 5
}
